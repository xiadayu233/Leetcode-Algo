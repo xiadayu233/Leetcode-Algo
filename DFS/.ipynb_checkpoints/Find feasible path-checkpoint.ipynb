{
 "cells": [
  {
   "cell_type": "markdown",
   "metadata": {},
   "source": [
    "## Find path\n",
    "#79. Word Search: https://leetcode.com/problems/word-search/\n",
    "1. need to take notes of the positions we have used\n",
    "2. since we are finding the possible path, if there is any, return true immediately.\n"
   ]
  },
  {
   "cell_type": "code",
   "execution_count": null,
   "metadata": {},
   "outputs": [],
   "source": [
    "#dfs find path in a matrix\n",
    "#https://leetcode.com/problems/word-search/\n",
    "def dfs(board, word, i, j, used):\n",
    "    #search 4 directions\n",
    "    if len(word) == 0:\n",
    "        return True\n",
    "    if i-1>=0 and board[i-1][j] == word[0] and (i-1, j) not in used:\n",
    "        used[(i-1,j)] = 1\n",
    "        #return true immediatly if there is any possible path, or will have time limit error\n",
    "        if dfs(board, word[1:], i-1, j, used):\n",
    "            return True\n",
    "        del used[(i-1,j)]\n",
    "    if i+1<len(board) and board[i+1][j] == word[0] and (i+1, j) not in used:\n",
    "        used[(i+1, j)] = 1\n",
    "        if dfs(board, word[1:], i+1, j, used):\n",
    "            return True\n",
    "        del used[(i+1, j)]\n",
    "    if j-1>=0 and board[i][j-1] == word[0] and (i,j-1) not in used:\n",
    "        used[(i,j-1)] = 1\n",
    "        if dfs(board,word[1:], i, j-1, used):\n",
    "            return True\n",
    "        del used[(i,j-1)]\n",
    "    if j+1<len(board[0]) and board[i][j+1] == word[0] and (i,j+1) not in used:\n",
    "        used[(i,j+1)] = 1\n",
    "        if dfs(board, word[1:], i, j+1, used):\n",
    "            return True\n",
    "        del used[(i,j+1)]\n",
    "    return False\n",
    "def exist(self, board, word):\n",
    "    \"\"\"\n",
    "    :type board: List[List[str]]\n",
    "    :type word: str\n",
    "    :rtype: bool\n",
    "    \"\"\"\n",
    "    #dfs\n",
    "    if len(word) == 0:\n",
    "        return True\n",
    "    #find the start point\n",
    "    for i in range(len(board)):\n",
    "        for j in range(len(board[0])):\n",
    "            if board[i][j] == word[0]:\n",
    "                # used here is to take notes on the pisitions we have been before\n",
    "                used = {(i,j):1}\n",
    "                if dfs(board, word[1:], i, j, used):\n",
    "                    return True\n",
    "    return False"
   ]
  },
  {
   "cell_type": "markdown",
   "metadata": {},
   "source": [
    "#129. Sum Root to Leaf Numbers https://leetcode.com/problems/sum-root-to-leaf-numbers/\n",
    "1. need to be careful about the cur list"
   ]
  },
  {
   "cell_type": "code",
   "execution_count": null,
   "metadata": {},
   "outputs": [],
   "source": [
    "#find path in a tree\n",
    "#https://leetcode.com/problems/sum-root-to-leaf-numbers/\n",
    "class TreeNode(object):\n",
    "    def __init__(self, val=0, left=None, right=None):\n",
    "        self.val = val\n",
    "        self.left = left\n",
    "        self.right = right\n",
    "def dfs(root,cur,s):\n",
    "    if not root:\n",
    "        return []\n",
    "    cur.append(str(root.val))\n",
    "    if not root.left and not root.right:\n",
    "        return s+int(''.join(cur))\n",
    "    if root.left:\n",
    "        '''\n",
    "        here is the main difference: \n",
    "        need to dfs both the left and right child, they are parallel to each other,it's like we have two list here\n",
    "        so we need to copy the cur\n",
    "        '''\n",
    "        new_cur = cur[:]\n",
    "        s = dfs(root.left,new_cur,s)\n",
    "    if root.right:\n",
    "        new_cur = cur[:]\n",
    "        s = dfs(root.right,new_cur,s)\n",
    "    return s"
   ]
  }
 ],
 "metadata": {
  "kernelspec": {
   "display_name": "Python 3",
   "language": "python",
   "name": "python3"
  },
  "language_info": {
   "codemirror_mode": {
    "name": "ipython",
    "version": 3
   },
   "file_extension": ".py",
   "mimetype": "text/x-python",
   "name": "python",
   "nbconvert_exporter": "python",
   "pygments_lexer": "ipython3",
   "version": "3.6.5"
  }
 },
 "nbformat": 4,
 "nbformat_minor": 2
}

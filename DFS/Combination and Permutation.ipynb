{
 "cells": [
  {
   "cell_type": "markdown",
   "metadata": {},
   "source": [
    "## k Combination w/o duplicates"
   ]
  },
  {
   "cell_type": "code",
   "execution_count": 4,
   "metadata": {},
   "outputs": [
    {
     "name": "stdout",
     "output_type": "stream",
     "text": [
      "[[0, 1], [0, 2], [0, 3], [0, 4], [1, 2], [1, 3], [1, 4], [2, 3], [2, 4], [3, 4]]\n"
     ]
    }
   ],
   "source": [
    "def combination1(arr,k,ret,cur, start):\n",
    "    if len(cur) == k:\n",
    "        new_cur = cur[:]\n",
    "        ret.append(new_cur)\n",
    "        return\n",
    "    for i in range(start,len(arr)):\n",
    "        cur.append(arr[i])\n",
    "        combination1(arr,k,ret,cur, i+1)\n",
    "        cur.pop(-1)\n",
    "    return\n",
    "\n",
    "arr = [i for i in range(5)]\n",
    "ret = []\n",
    "combination1(arr,2,ret,[],0)\n",
    "print(ret)"
   ]
  },
  {
   "cell_type": "markdown",
   "metadata": {},
   "source": [
    "## Combination w/ duplicates"
   ]
  },
  {
   "cell_type": "code",
   "execution_count": 8,
   "metadata": {},
   "outputs": [
    {
     "name": "stdout",
     "output_type": "stream",
     "text": [
      "[[], [1], [1, 2], [1, 2, 2], [2], [2, 2]]\n"
     ]
    }
   ],
   "source": [
    "'''\n",
    "1. note that the arr should be sorted\n",
    "2. we need a parameter 'start' to tell us the start position\n",
    "3. we have duplicates here, so shoudn't iterate all the vals in arr, instead we need to jump some vals\n",
    "'''\n",
    "def combination2(arr,ret,cur,start):\n",
    "    i = start\n",
    "    while i<len(arr):\n",
    "        #for current level, jump to next distinct value\n",
    "        #note the condition 'i>start': if arr[i] == arr[i-1] but i == start, it means it's looking for [2,2]\n",
    "        if i>start and i<len(arr) and arr[i] == arr[i-1]:\n",
    "            i+=1\n",
    "        if i<len(arr):\n",
    "            cur.append(arr[i])\n",
    "            new_cur = cur[:]\n",
    "            ret.append(new_cur)\n",
    "            combination2(arr,ret,cur,i+1)\n",
    "            cur.pop(-1)\n",
    "            i+=1\n",
    "    return\n",
    "arr = [1,2,2]\n",
    "ret = [[]]\n",
    "combination2(arr,ret,[],0)\n",
    "print(ret)"
   ]
  },
  {
   "cell_type": "code",
   "execution_count": null,
   "metadata": {},
   "outputs": [],
   "source": []
  }
 ],
 "metadata": {
  "kernelspec": {
   "display_name": "Python 3",
   "language": "python",
   "name": "python3"
  },
  "language_info": {
   "codemirror_mode": {
    "name": "ipython",
    "version": 3
   },
   "file_extension": ".py",
   "mimetype": "text/x-python",
   "name": "python",
   "nbconvert_exporter": "python",
   "pygments_lexer": "ipython3",
   "version": "3.6.5"
  }
 },
 "nbformat": 4,
 "nbformat_minor": 2
}

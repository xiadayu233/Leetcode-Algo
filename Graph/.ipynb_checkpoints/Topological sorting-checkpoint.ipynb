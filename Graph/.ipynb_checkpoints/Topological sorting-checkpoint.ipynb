{
 "cells": [
  {
   "cell_type": "markdown",
   "metadata": {},
   "source": [
    "## Topological sorting: dict+queue\n",
    "The key: find the appropriate data structure\n",
    "<br> https://leetcode.com/problems/course-schedule/\n",
    "1. you can use array to store the information, but the complexity would be O(n2), instead use dictionary to store the pairs;\n",
    "2. you can keep looping the status list, but a queue here can save more time\n"
   ]
  },
  {
   "cell_type": "code",
   "execution_count": null,
   "metadata": {},
   "outputs": [],
   "source": [
    "class Solution(object):\n",
    "    def canFinish(self, numCourses, prerequisites):\n",
    "        \"\"\"\n",
    "        :type numCourses: int\n",
    "        :type prerequisites: List[List[int]]\n",
    "        :rtype: bool\n",
    "        \"\"\"\n",
    "        d ,status= {}, [0]*numCourses\n",
    "        for pair in prerequisites:\n",
    "            if pair[1] not in d:\n",
    "                d[pair[1]] = [pair[0]]\n",
    "            else:\n",
    "                d[pair[1]].append(pair[0])\n",
    "            status[pair[0]]+=1\n",
    "        #initiate the queue\n",
    "        from collections import deque\n",
    "        q = deque([])\n",
    "        for i in range(len(status)):\n",
    "            if status[i] == 0:\n",
    "                q.append(i)\n",
    "        while q:\n",
    "            cur = q.popleft()\n",
    "            if cur in d:\n",
    "                for idx in d[cur]:\n",
    "                    status[idx]-=1\n",
    "                    if status[idx] == 0:\n",
    "                        q.append(idx)\n",
    "                del d[cur]\n",
    "        if len(d)>0:\n",
    "            return False\n",
    "        return True"
   ]
  },
  {
   "cell_type": "markdown",
   "metadata": {},
   "source": [
    "## 310. Minimum Height Trees: set\n",
    "https://leetcode.com/problems/minimum-height-trees/"
   ]
  },
  {
   "cell_type": "code",
   "execution_count": null,
   "metadata": {},
   "outputs": [],
   "source": [
    "class Solution(object):\n",
    "    def findMinHeightTrees(self, n, edges):\n",
    "        \"\"\"\n",
    "        :type n: int\n",
    "        :type edges: List[List[int]]\n",
    "        :rtype: List[int]\n",
    "        \"\"\"\n",
    "        if n == 1: return [0]\n",
    "        adj = [set() for _ in range(n)]\n",
    "        for i,j in edges:\n",
    "            adj[i].add(j)\n",
    "            adj[j].add(i)\n",
    "            \n",
    "        leaves = [i for i in range(len(adj)) if len(adj[i]) == 1]\n",
    "        #need to check the left nodes instead of the number of leaves        \n",
    "        while n>2:\n",
    "            n-=len(leaves)\n",
    "            new_leaves = []\n",
    "            for leaf in leaves:\n",
    "                temp = adj[leaf].pop()\n",
    "                adj[temp].remove(leaf)\n",
    "                if len(adj[temp]) == 1:\n",
    "                    new_leaves.append(temp)\n",
    "            leaves = new_leaves\n",
    "            \n",
    "        return leaves"
   ]
  }
 ],
 "metadata": {
  "kernelspec": {
   "display_name": "Python 3",
   "language": "python",
   "name": "python3"
  },
  "language_info": {
   "codemirror_mode": {
    "name": "ipython",
    "version": 3
   },
   "file_extension": ".py",
   "mimetype": "text/x-python",
   "name": "python",
   "nbconvert_exporter": "python",
   "pygments_lexer": "ipython3",
   "version": "3.6.5"
  }
 },
 "nbformat": 4,
 "nbformat_minor": 2
}

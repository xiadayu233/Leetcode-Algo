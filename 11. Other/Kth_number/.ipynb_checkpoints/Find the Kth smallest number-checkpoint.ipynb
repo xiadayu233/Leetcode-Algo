{
 "cells": [
  {
   "cell_type": "markdown",
   "metadata": {},
   "source": [
    "## 1. Kth smallest number using heapq\n",
    "https://leetcode.com/problems/kth-smallest-element-in-a-sorted-matrix/\n",
    "<br>Kth Smallest Element in a Sorted Matrix\n",
    "<br>O(k*lnN)"
   ]
  },
  {
   "cell_type": "code",
   "execution_count": 17,
   "metadata": {},
   "outputs": [],
   "source": [
    "class Solution(object):\n",
    "    def kthSmallest(self, matrix, k):\n",
    "        \"\"\"\n",
    "        :type matrix: List[List[int]]\n",
    "        :type k: int\n",
    "        :rtype: int\n",
    "        \"\"\"\n",
    "        import heapq\n",
    "        h = [(matrix[i][0], i, 0) for i in range(len(matrix))]\n",
    "        heapq.heapify(h)\n",
    "        count = 0\n",
    "        while count<k:\n",
    "            val, i, j = heapq.heappop(h)\n",
    "            if j+1<len(matrix[0]):\n",
    "                heapq.heappush(h,(matrix[i][j+1], i, j+1))\n",
    "            count+=1\n",
    "        return val"
   ]
  },
  {
   "cell_type": "markdown",
   "metadata": {},
   "source": [
    "## 2. Quick Select\n",
    "https://leetcode.com/problems/kth-largest-element-in-an-array/\n",
    "<br> similar to the quick sort\n",
    "<br> time complexity O(N)"
   ]
  },
  {
   "cell_type": "code",
   "execution_count": null,
   "metadata": {},
   "outputs": [],
   "source": [
    "\"\"\"\n",
    "choose the first element as pivot\n",
    "in place switch\n",
    "\"\"\"\n",
    "def quickSelect(nums, start, end):\n",
    "    if start == end:\n",
    "        return start, nums[start]\n",
    "    pivot = nums[start]\n",
    "    head, tail = start+1, end\n",
    "    while head<tail:\n",
    "        while head<tail and nums[head]<=pivot:\n",
    "            head+=1\n",
    "        while head<tail and nums[tail]>pivot:\n",
    "            tail-=1\n",
    "        nums[head], nums[tail] = nums[tail], nums[head]\n",
    "    if head == tail and nums[head]<=pivot:\n",
    "        nums[head], nums[start] = nums[start], nums[head]\n",
    "        return head, pivot\n",
    "    elif head == tail and nums[head]>pivot:\n",
    "        nums[head-1], nums[start] = nums[start], nums[head-1]\n",
    "        return head-1, pivot\n",
    "    \n",
    "class Solution(object):\n",
    "    def findKthLargest(self, nums, k):\n",
    "        \"\"\"\n",
    "        :type nums: List[int]\n",
    "        :type k: int\n",
    "        :rtype: int\n",
    "        \"\"\"\n",
    "        # quick select\n",
    "        # O(N)\n",
    "        start, end = 0, len(nums)-1\n",
    "        while start<=end:\n",
    "            rank, val = quickSelect(nums, start, end)\n",
    "            if rank == len(nums)-k:\n",
    "                return val\n",
    "            elif rank>len(nums)-k:\n",
    "                end = rank-1\n",
    "            else:\n",
    "                start = rank+1"
   ]
  },
  {
   "cell_type": "markdown",
   "metadata": {},
   "source": [
    "## 3. Median of Medians\n",
    "https://aakritty.wordpress.com/2013/06/26/median-of-medians/"
   ]
  },
  {
   "cell_type": "code",
   "execution_count": null,
   "metadata": {},
   "outputs": [],
   "source": []
  }
 ],
 "metadata": {
  "kernelspec": {
   "display_name": "Python 3",
   "language": "python",
   "name": "python3"
  },
  "language_info": {
   "codemirror_mode": {
    "name": "ipython",
    "version": 3
   },
   "file_extension": ".py",
   "mimetype": "text/x-python",
   "name": "python",
   "nbconvert_exporter": "python",
   "pygments_lexer": "ipython3",
   "version": "3.6.5"
  }
 },
 "nbformat": 4,
 "nbformat_minor": 2
}

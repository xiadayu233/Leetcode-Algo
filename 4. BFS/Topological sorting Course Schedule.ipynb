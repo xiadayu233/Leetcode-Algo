{
 "cells": [
  {
   "cell_type": "markdown",
   "metadata": {},
   "source": [
    "## I. Course Schedule\n",
    "https://leetcode.com/problems/course-schedule/\n",
    "1. 判断是否存在环\n",
    "2. indegree; outdegree\n",
    "3. 数据结构：两个dictionary + 1个queue"
   ]
  },
  {
   "cell_type": "code",
   "execution_count": null,
   "metadata": {},
   "outputs": [],
   "source": [
    "class Solution(object):\n",
    "    def canFinish(self, numCourses, prerequisites):\n",
    "        indegree, outdegree = {}, {}\n",
    "        for i, j in prerequisites:\n",
    "            if i not in indegree:\n",
    "                indegree[i] = 1\n",
    "            else:\n",
    "                indegree[i]+=1\n",
    "            if j not in outdegree:\n",
    "                outdegree[j] = [i]\n",
    "            else:\n",
    "                outdegree[j].append(i)\n",
    "        from collections import deque\n",
    "        leaves = deque([i for i in range(numCourses) if i not in indegree])\n",
    "        while leaves:\n",
    "            leaf = leaves.popleft()\n",
    "            if leaf in outdegree:\n",
    "                for x in outdegree[leaf]:\n",
    "                    indegree[x]-=1\n",
    "                    if indegree[x] == 0:\n",
    "                        indegree.pop(x)\n",
    "                        leaves.append(x)\n",
    "        if len(indegree) == 0:\n",
    "            return True\n",
    "        return False"
   ]
  },
  {
   "cell_type": "markdown",
   "metadata": {},
   "source": [
    "## II. Course Schedule\n",
    "https://leetcode.com/problems/course-schedule-ii/\n",
    "1. 输出拓扑排序\n",
    "2. same as above"
   ]
  },
  {
   "cell_type": "code",
   "execution_count": null,
   "metadata": {},
   "outputs": [],
   "source": [
    "class Solution(object):\n",
    "    def findOrder(self, numCourses, prerequisites):\n",
    "        \"\"\"\n",
    "        :type numCourses: int\n",
    "        :type prerequisites: List[List[int]]\n",
    "        :rtype: List[int]\n",
    "        \"\"\"\n",
    "        indegree, outdegree = {}, {}\n",
    "        for i, j in prerequisites:\n",
    "            if i not in indegree:\n",
    "                indegree[i] = 1\n",
    "            else:\n",
    "                indegree[i]+=1\n",
    "            if j not in outdegree:\n",
    "                outdegree[j] = [i]\n",
    "            else:\n",
    "                outdegree[j].append(i)\n",
    "        from collections import deque\n",
    "        leaves = deque([i for i in range(numCourses) if i not in indegree])\n",
    "        ret = []\n",
    "        while leaves:\n",
    "            leaf = leaves.popleft()\n",
    "            ret.append(leaf)\n",
    "            if leaf in outdegree:\n",
    "                for x in outdegree[leaf]:\n",
    "                    indegree[x]-=1\n",
    "                    if indegree[x] == 0:\n",
    "                        indegree.pop(x)\n",
    "                        leaves.append(x)\n",
    "        if len(indegree) == 0:\n",
    "            return ret\n",
    "        return []"
   ]
  }
 ],
 "metadata": {
  "kernelspec": {
   "display_name": "Python 3",
   "language": "python",
   "name": "python3"
  },
  "language_info": {
   "codemirror_mode": {
    "name": "ipython",
    "version": 3
   },
   "file_extension": ".py",
   "mimetype": "text/x-python",
   "name": "python",
   "nbconvert_exporter": "python",
   "pygments_lexer": "ipython3",
   "version": "3.6.5"
  }
 },
 "nbformat": 4,
 "nbformat_minor": 2
}

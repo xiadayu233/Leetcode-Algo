{
 "cells": [
  {
   "cell_type": "markdown",
   "metadata": {},
   "source": [
    "## BFS的两个易错点\n",
    "1. 在bfs的过程中要有visited set，否则会死循环\n",
    "2. 每次popleft，please rename the coordinates as (x,y), distinguish it with (i,j)\n",
    "<br>https://leetcode.com/problems/01-matrix/"
   ]
  },
  {
   "cell_type": "code",
   "execution_count": null,
   "metadata": {},
   "outputs": [],
   "source": [
    "def bfs(matrix, i, j):\n",
    "    if matrix[i][j] == 0:\n",
    "        return 0\n",
    "    from collections import deque\n",
    "    '''\n",
    "    define a visited set\n",
    "    '''\n",
    "    visited = set()\n",
    "    q = deque([(i,j)])\n",
    "    ret = 1\n",
    "    while q:\n",
    "        length = len(q)\n",
    "        for i in range(length):\n",
    "            '''\n",
    "            easy to make a mistake here\n",
    "            '''\n",
    "            x,y = q.popleft()\n",
    "            visited.add((x,y))\n",
    "            if x-1>=0 and matrix[x-1][y] not in visited:\n",
    "                if matrix[x-1][y] == 0:\n",
    "                    return ret\n",
    "                q.append((x-1,y))\n",
    "            if x+1<len(matrix) and matrix[x+1][y] not in visited:\n",
    "                if matrix[x+1][y] == 0:\n",
    "                    return ret\n",
    "                q.append((x+1,y))\n",
    "            if y-1>=0 and matrix[x][y-1] not in visited:\n",
    "                if matrix[x][y-1] == 0:\n",
    "                    return ret\n",
    "                q.append((x,y-1))\n",
    "            if y+1<len(matrix[0]) and matrix[x][y+1] not in visited:\n",
    "                if matrix[x][y+1] == 0:\n",
    "                    return ret\n",
    "                q.append((x, y+1))\n",
    "        ret+=1\n",
    "    return ret\n",
    "            \n",
    "            \n",
    "\n",
    "class Solution(object):\n",
    "    def updateMatrix(self, matrix):\n",
    "        \"\"\"\n",
    "        :type matrix: List[List[int]]\n",
    "        :rtype: List[List[int]]\n",
    "        \"\"\"\n",
    "        #bfs\n",
    "        ret = [[0]*len(matrix[0]) for i in range(len(matrix))]\n",
    "        for i in range(len(matrix)):\n",
    "            for j in range(len(matrix[0])):\n",
    "                d = bfs(matrix, i, j)\n",
    "                ret[i][j] = d\n",
    "        return ret"
   ]
  }
 ],
 "metadata": {
  "kernelspec": {
   "display_name": "Python 3",
   "language": "python",
   "name": "python3"
  },
  "language_info": {
   "codemirror_mode": {
    "name": "ipython",
    "version": 3
   },
   "file_extension": ".py",
   "mimetype": "text/x-python",
   "name": "python",
   "nbconvert_exporter": "python",
   "pygments_lexer": "ipython3",
   "version": "3.6.5"
  }
 },
 "nbformat": 4,
 "nbformat_minor": 2
}

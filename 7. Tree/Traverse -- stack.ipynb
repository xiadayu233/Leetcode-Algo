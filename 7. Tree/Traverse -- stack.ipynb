{
 "cells": [
  {
   "cell_type": "markdown",
   "metadata": {},
   "source": [
    "## Binary Tree Preorder Traverse -- stack implementation\n",
    "https://leetcode.com/problems/binary-tree-preorder-traversal/ \n",
    "<br>preorder and inorder is medium, but postorder can be hard"
   ]
  },
  {
   "cell_type": "code",
   "execution_count": null,
   "metadata": {},
   "outputs": [],
   "source": [
    "class TreeNode(object):\n",
    "    def __init__(self, val=0, left=None, right=None):\n",
    "        self.val = val\n",
    "        self.left = left\n",
    "        self.right = right\n",
    "        \n",
    "class Solution(object):\n",
    "    def preorderTraversal(self, root):\n",
    "        \"\"\"\n",
    "        :type root: TreeNode\n",
    "        :rtype: List[int]\n",
    "        \"\"\"\n",
    "        #non recursion\n",
    "        if not root:\n",
    "            return []\n",
    "        stack = [root]\n",
    "        ret = [root.val]\n",
    "        while stack:\n",
    "            '''\n",
    "            here we didn't pop the last one, but only take a look of it\n",
    "            we we put nodes into the stack, we update the return list\n",
    "            note that for the node without left child, we have append it to the stack\n",
    "            '''\n",
    "            root = stack[-1]\n",
    "            while root and root.left:\n",
    "                root = root.left\n",
    "                stack.append(root)\n",
    "                ret.append(root.val)\n",
    "            '''\n",
    "            here we need to pop the last node in the stack\n",
    "            '''\n",
    "            root = stack.pop(-1)\n",
    "            while stack and not root.right:\n",
    "                root = stack.pop(-1)\n",
    "            if root.right:\n",
    "                stack.append(root.right)\n",
    "                ret.append(root.right.val)\n",
    "        return ret"
   ]
  },
  {
   "cell_type": "markdown",
   "metadata": {},
   "source": [
    "## Binary Tree Postorder Traverse -- stack implementation\n",
    "https://leetcode.com/problems/binary-tree-postorder-traversal/"
   ]
  },
  {
   "cell_type": "code",
   "execution_count": null,
   "metadata": {},
   "outputs": [],
   "source": []
  }
 ],
 "metadata": {
  "kernelspec": {
   "display_name": "Python 3",
   "language": "python",
   "name": "python3"
  },
  "language_info": {
   "codemirror_mode": {
    "name": "ipython",
    "version": 3
   },
   "file_extension": ".py",
   "mimetype": "text/x-python",
   "name": "python",
   "nbconvert_exporter": "python",
   "pygments_lexer": "ipython3",
   "version": "3.6.5"
  }
 },
 "nbformat": 4,
 "nbformat_minor": 2
}

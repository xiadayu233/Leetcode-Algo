{
 "cells": [
  {
   "cell_type": "markdown",
   "metadata": {},
   "source": [
    "##  Next Greater Element II\n",
    "https://leetcode.com/problems/next-greater-element-ii/\n",
    "<br> the numbers in the stack is decreasing;\n",
    "<br> there may be duplicates so pop everything out;\n",
    "<br> after the first loop, the bottom item in the stack is the biggest number, need to loop again until the first one since it's a circular array."
   ]
  },
  {
   "cell_type": "code",
   "execution_count": null,
   "metadata": {},
   "outputs": [],
   "source": [
    "class Solution(object):\n",
    "    def nextGreaterElements(self, nums):\n",
    "        \"\"\"\n",
    "        :type nums: List[int]\n",
    "        :rtype: List[int]\n",
    "        \"\"\"\n",
    "        if len(nums) == 0:\n",
    "            return []\n",
    "        if len(nums) == 1:\n",
    "            return [-1]\n",
    "        stack, idxstack = [nums[0]], [0]\n",
    "        ret = [0]*len(nums)\n",
    "        p1, p2 = 0,1\n",
    "        while p2<len(nums):\n",
    "            #the nums in stack is strictly decreasing\n",
    "            while p2<len(nums) and nums[p2]<=stack[-1]:\n",
    "                stack.append(nums[p2])\n",
    "                idxstack.append(p2)\n",
    "                p2+=1\n",
    "            #nums[p2]>stack[-1]\n",
    "            if p2<len(nums):\n",
    "                while stack and nums[p2]>stack[-1]:\n",
    "                    stack.pop(-1)\n",
    "                    idx = idxstack.pop(-1)\n",
    "                    ret[idx] = nums[p2]\n",
    "            if p2<len(nums):\n",
    "                stack.append(nums[p2])\n",
    "                idxstack.append(p2)\n",
    "                p2+=1\n",
    "        for i in range(idxstack[0]+1):\n",
    "            while stack[-1]<nums[i]:\n",
    "                ret[idxstack[-1]] = nums[i]\n",
    "                idxstack.pop(-1)\n",
    "                stack.pop(-1)\n",
    "        for idx in idxstack:\n",
    "            ret[idx] = -1\n",
    "        return ret"
   ]
  },
  {
   "cell_type": "markdown",
   "metadata": {},
   "source": [
    "## Sliding Window Maximum\n",
    "https://leetcode.com/problems/sliding-window-maximum/\n",
    "<br>just a great question, very similar to the one above\n",
    "<br>deque + stack"
   ]
  },
  {
   "cell_type": "code",
   "execution_count": null,
   "metadata": {},
   "outputs": [],
   "source": [
    "class Solution(object):\n",
    "    def maxSlidingWindow(self, nums, k):\n",
    "        \"\"\"\n",
    "        :type nums: List[int]\n",
    "        :type k: int\n",
    "        :rtype: List[int]\n",
    "        \"\"\"\n",
    "        from collections import deque\n",
    "        ret = []\n",
    "        arr = deque([])\n",
    "        for i in range(len(nums)):\n",
    "            while arr and nums[arr[-1]]<=nums[i]:\n",
    "                arr.pop()\n",
    "            arr.append(i)\n",
    "            if arr[0]<=i-k:\n",
    "                arr.popleft()\n",
    "            if i>=k-1:\n",
    "                ret.append(nums[arr[0]])\n",
    "        return ret"
   ]
  }
 ],
 "metadata": {
  "kernelspec": {
   "display_name": "Python 3",
   "language": "python",
   "name": "python3"
  },
  "language_info": {
   "codemirror_mode": {
    "name": "ipython",
    "version": 3
   },
   "file_extension": ".py",
   "mimetype": "text/x-python",
   "name": "python",
   "nbconvert_exporter": "python",
   "pygments_lexer": "ipython3",
   "version": "3.6.5"
  }
 },
 "nbformat": 4,
 "nbformat_minor": 2
}

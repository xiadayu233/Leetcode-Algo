{
 "cells": [
  {
   "cell_type": "markdown",
   "metadata": {},
   "source": [
    "## Path sum\n",
    "https://leetcode.com/problems/range-sum-of-bst/\n",
    "1. for the dfe, pls be careful of $return \\ None$ and $return \\ s$\n",
    "2. if you return $s$, then s needn't to be a parameter, set $s+=dfs()$\n",
    "3. if you return $None$, then s must be a parameter, since you need to add value to it at each step\n",
    "4. DON'T return $s$ and also set $s$ as an parameter, then do $s+=dfs$, this is WRONG."
   ]
  },
  {
   "cell_type": "code",
   "execution_count": null,
   "metadata": {},
   "outputs": [],
   "source": [
    "#Definition for a binary tree node.\n",
    "class TreeNode(object):\n",
    "    def __init__(self, val=0, left=None, right=None):\n",
    "        self.val = val\n",
    "        self.left = left\n",
    "        self.right = right\n",
    "def dfs(root, L, R):\n",
    "    if not root:\n",
    "        return 0\n",
    "    if root.val>=L and root.val<=R:\n",
    "        s=root.val\n",
    "        s+=dfs(root.left,L,R)\n",
    "        s+=dfs(root.right,L,R)\n",
    "    elif root.val<L:\n",
    "        while root and root.val<L:\n",
    "            root = root.right\n",
    "        s=dfs(root,L,R)\n",
    "    elif root.val>R:\n",
    "        while root and root.val>R:\n",
    "            root = root.left\n",
    "        s=dfs(root,L,R)\n",
    "    return s\n",
    "\n",
    "class Solution(object):\n",
    "    def rangeSumBST(self, root, L, R):\n",
    "        return dfs(root, L, R)"
   ]
  }
 ],
 "metadata": {
  "kernelspec": {
   "display_name": "Python 3",
   "language": "python",
   "name": "python3"
  },
  "language_info": {
   "codemirror_mode": {
    "name": "ipython",
    "version": 3
   },
   "file_extension": ".py",
   "mimetype": "text/x-python",
   "name": "python",
   "nbconvert_exporter": "python",
   "pygments_lexer": "ipython3",
   "version": "3.6.5"
  }
 },
 "nbformat": 4,
 "nbformat_minor": 2
}

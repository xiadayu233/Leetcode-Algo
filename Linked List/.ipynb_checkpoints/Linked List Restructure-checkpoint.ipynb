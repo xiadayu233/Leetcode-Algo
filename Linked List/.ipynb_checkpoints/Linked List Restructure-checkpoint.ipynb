{
 "cells": [
  {
   "cell_type": "markdown",
   "metadata": {},
   "source": [
    "## I. change the structure, always remember to set:  $ end.next = None$"
   ]
  },
  {
   "cell_type": "code",
   "execution_count": null,
   "metadata": {},
   "outputs": [],
   "source": [
    "#82. Remove Duplicates from Sorted List II\n",
    "class ListNode(object):\n",
    "    def __init__(self, val=0, next=None):\n",
    "        self.val = val\n",
    "        self.next = next\n",
    "def deleteDuplicates(self, head):\n",
    "    \"\"\"\n",
    "    :type head: ListNode\n",
    "    :rtype: ListNode\n",
    "    \"\"\"\n",
    "    dummy = ListNode(0)\n",
    "    last, current = dummy, head\n",
    "    while current and current.next:\n",
    "        distinct = True\n",
    "        while current and current.next and current.val == current.next.val:\n",
    "            current = current.next\n",
    "            distinct = False\n",
    "        if distinct:\n",
    "            last.next = current\n",
    "            last = last.next\n",
    "        current = current.next\n",
    "    # here is very important\n",
    "    # when you get out of the loop, please remember to change the last node, set last.next = None\n",
    "    if current:\n",
    "        last.next = current\n",
    "    else:\n",
    "        last.next = None\n",
    "    return dummy.next     "
   ]
  }
 ],
 "metadata": {
  "kernelspec": {
   "display_name": "Python 3",
   "language": "python",
   "name": "python3"
  },
  "language_info": {
   "codemirror_mode": {
    "name": "ipython",
    "version": 3
   },
   "file_extension": ".py",
   "mimetype": "text/x-python",
   "name": "python",
   "nbconvert_exporter": "python",
   "pygments_lexer": "ipython3",
   "version": "3.6.5"
  }
 },
 "nbformat": 4,
 "nbformat_minor": 2
}

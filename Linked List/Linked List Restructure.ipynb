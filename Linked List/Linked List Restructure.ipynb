{
 "cells": [
  {
   "cell_type": "markdown",
   "metadata": {},
   "source": [
    "## I. change the structure, always remember to set:  $ end.next = None$\n",
    "## II. quick sort for linked list"
   ]
  },
  {
   "cell_type": "code",
   "execution_count": null,
   "metadata": {},
   "outputs": [],
   "source": [
    "'''\n",
    "1. https://leetcode.com/problems/sort-list/ \n",
    "2. tricky part, set:  pivot.next,less.next,more.next=None,None,Nonepivot.next,less.next,more.next=None,None,None\n",
    "3. quick sort can have great advantage to sort linked list, need no extra space\n",
    "'''\n",
    "class ListNode(object):\n",
    "    def __init__(self, val=0, next=None):\n",
    "        self.val = val\n",
    "        self.next = next\n",
    "class Solution(object):\n",
    "    def sortList(self, head):\n",
    "        \"\"\"\n",
    "        :type head: ListNode\n",
    "        :rtype: ListNode\n",
    "        \"\"\"\n",
    "        if not head:\n",
    "            return None\n",
    "        if not head.next:\n",
    "            return head\n",
    "        #quick sort\n",
    "        pivot = head\n",
    "        dummy1 = ListNode(0)\n",
    "        dummy2 = ListNode(0)\n",
    "        less, more = dummy1, dummy2\n",
    "        p = head.next\n",
    "        while p:\n",
    "            if p.val == pivot.val:\n",
    "                pivot.next = p\n",
    "                pivot = pivot.next\n",
    "            elif p.val < pivot.val:\n",
    "                less.next = p\n",
    "                less = less.next\n",
    "            elif p.val > pivot.val:\n",
    "                more.next = p\n",
    "                more = more.next\n",
    "            p = p.next\n",
    "        pivot.next, less.next, more.next = None, None, None\n",
    "        less = self.sortList(dummy1.next)\n",
    "        more = self.sortList(dummy2.next)\n",
    "        if less:\n",
    "            ret = less\n",
    "            while less.next:\n",
    "                less = less.next\n",
    "            less.next = head\n",
    "        else:\n",
    "            ret = head\n",
    "        while head and head.next:\n",
    "            head = head.next\n",
    "        head.next = more\n",
    "        return ret"
   ]
  },
  {
   "cell_type": "code",
   "execution_count": null,
   "metadata": {},
   "outputs": [],
   "source": [
    "#82. Remove Duplicates from Sorted List II\n",
    "class ListNode(object):\n",
    "    def __init__(self, val=0, next=None):\n",
    "        self.val = val\n",
    "        self.next = next\n",
    "def deleteDuplicates(self, head):\n",
    "    \"\"\"\n",
    "    :type head: ListNode\n",
    "    :rtype: ListNode\n",
    "    \"\"\"\n",
    "    dummy = ListNode(0)\n",
    "    last, current = dummy, head\n",
    "    while current and current.next:\n",
    "        distinct = True\n",
    "        while current and current.next and current.val == current.next.val:\n",
    "            current = current.next\n",
    "            distinct = False\n",
    "        if distinct:\n",
    "            last.next = current\n",
    "            last = last.next\n",
    "        current = current.next\n",
    "    # here is very important\n",
    "    # when you get out of the loop, please remember to change the last node, set last.next = None\n",
    "    if current:\n",
    "        last.next = current\n",
    "    else:\n",
    "        last.next = None\n",
    "    return dummy.next     "
   ]
  }
 ],
 "metadata": {
  "kernelspec": {
   "display_name": "Python 3",
   "language": "python",
   "name": "python3"
  },
  "language_info": {
   "codemirror_mode": {
    "name": "ipython",
    "version": 3
   },
   "file_extension": ".py",
   "mimetype": "text/x-python",
   "name": "python",
   "nbconvert_exporter": "python",
   "pygments_lexer": "ipython3",
   "version": "3.6.5"
  }
 },
 "nbformat": 4,
 "nbformat_minor": 2
}

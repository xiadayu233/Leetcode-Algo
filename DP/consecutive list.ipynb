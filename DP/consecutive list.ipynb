{
 "cells": [
  {
   "cell_type": "markdown",
   "metadata": {},
   "source": [
    "## 1. Consider every position as an end position\n",
    "https://leetcode.com/problems/word-break/\n",
    "<br>这道题是word break\n",
    "<br>有点像接力赛跑那种，就一个小青蛙连着跳，能不能跳到对岸（只能跳当前array[i]步）\n",
    "<br>还有一道题可以跳任意步子<= arr[i]"
   ]
  },
  {
   "cell_type": "code",
   "execution_count": null,
   "metadata": {},
   "outputs": [],
   "source": [
    "class Solution(object):\n",
    "    def wordBreak(self, s, wordDict):\n",
    "        \"\"\"\n",
    "        :type s: str\n",
    "        :type wordDict: List[str]\n",
    "        :rtype: bool\n",
    "        \"\"\"\n",
    "        status = [False]*len(s)\n",
    "        for i in range(len(s)):\n",
    "            for word in wordDict:\n",
    "                if i+1-len(word) >=0 and s[i+1-len(word):i+1] == word and (i+1-len(word) == 0 or status[i-len(word)]):\n",
    "                    status[i] = True\n",
    "                    break\n",
    "        return status[-1]"
   ]
  },
  {
   "cell_type": "markdown",
   "metadata": {},
   "source": [
    "## 2. need two list to take notes on the current end position: imax, imin\n",
    "https://leetcode.com/problems/maximum-product-subarray/\n",
    "<br>就其他的题一般是一个list记录之前列表的状态，但是这道题需要两个list，一个记录之前的最大，一个记录之前的最小，就还蛮新颖的"
   ]
  },
  {
   "cell_type": "code",
   "execution_count": null,
   "metadata": {},
   "outputs": [],
   "source": [
    "class Solution(object):\n",
    "    def maxProduct(self, nums):\n",
    "        \"\"\"\n",
    "        :type nums: List[int]\n",
    "        :rtype: int\n",
    "        \"\"\"\n",
    "        #if cur is positive, it need the biggest positive number\n",
    "        #if cur is negative, it need the smallest negative number\n",
    "        imax, imin = [nums[0]], [nums[0]]\n",
    "        for i in range(1,len(nums)):\n",
    "            if nums[i]>0:\n",
    "                if imax[-1]>0:\n",
    "                    imax.append(nums[i]*imax[-1])\n",
    "                else:\n",
    "                    imax.append(nums[i])\n",
    "                if imin[-1]<=0:\n",
    "                    imin.append(nums[i]*imin[-1])\n",
    "                else:\n",
    "                    imin.append(nums[i])\n",
    "            elif nums[i]<0:\n",
    "                if imax[-1]>0:\n",
    "                    to_imin = imax[-1]*nums[i]\n",
    "                else:\n",
    "                    to_imin = nums[i]\n",
    "                if imin[-1]<=0:\n",
    "                    imax.append(imin[-1]*nums[i])\n",
    "                else:\n",
    "                    imax.append(nums[i])\n",
    "                imin.append(to_imin)\n",
    "            else:\n",
    "                imax.append(0)\n",
    "                imin.append(0)\n",
    "        return max(imax)"
   ]
  },
  {
   "cell_type": "markdown",
   "metadata": {},
   "source": [
    "## need to consider every previous position\n",
    "Longest Increasing Subsequence\n",
    "<br>https://leetcode.com/problems/longest-increasing-subsequence/\n",
    "<br>这道题不是说只考虑arr[-1],而是要考虑整个arr，所以最后的复杂度就变成了O(N2),讨论里面是有O(NlogN)的，但是我还没学会"
   ]
  },
  {
   "cell_type": "code",
   "execution_count": null,
   "metadata": {},
   "outputs": [],
   "source": [
    "class Solution(object):\n",
    "    def lengthOfLIS(self, nums):\n",
    "        \"\"\"\n",
    "        :type nums: List[int]\n",
    "        :rtype: int\n",
    "        \"\"\"\n",
    "        #dp\n",
    "        #length of ending at the current item\n",
    "        if len(nums) == 0:\n",
    "            return 0\n",
    "        arr, stack = [1], [nums[0]]\n",
    "        for i in range(1,len(nums)):\n",
    "            temp = 1\n",
    "            for j in range(len(arr)):\n",
    "                if nums[j]<nums[i] and arr[j]+1>temp:\n",
    "                    temp = arr[j]+1\n",
    "            arr.append(temp)\n",
    "        return max(arr)"
   ]
  },
  {
   "cell_type": "markdown",
   "metadata": {},
   "source": [
    "## Palindromic Substrings\n",
    "https://leetcode.com/problems/palindromic-substrings/\n",
    "<br>咋说呢这道题也没啥新意，但是因为是回文序列，所以想到了九章里面说用dfs,但是其实意识到arr[i]和arr[i+1]之间的关系，用dp就可以做了"
   ]
  },
  {
   "cell_type": "code",
   "execution_count": null,
   "metadata": {},
   "outputs": [],
   "source": [
    "class Solution(object):\n",
    "    def countSubstrings(self, s):\n",
    "        \"\"\"\n",
    "        :type s: str\n",
    "        :rtype: int\n",
    "        \"\"\"\n",
    "        #s[i:j] is palindromic then s[i+1:j-1] must also be p\n",
    "        #can use dp to solve this problem\n",
    "        #status = {pos:[start positions makesit palindromic]}\n",
    "        ret = 0\n",
    "        status = []\n",
    "        for i in range(len(s)):\n",
    "            temp = []\n",
    "            if i-1 in status:\n",
    "                for j in status:\n",
    "                    if j == i-1 and s[i-1] == s[i]:\n",
    "                        ret+=1\n",
    "                        temp.append(j)\n",
    "                    if j-1>=0 and s[j-1] == s[i]:\n",
    "                        ret+=1\n",
    "                        temp.append(j-1)\n",
    "            temp.append(i)\n",
    "            ret+=1\n",
    "            status = temp\n",
    "        return ret"
   ]
  }
 ],
 "metadata": {
  "kernelspec": {
   "display_name": "Python 3",
   "language": "python",
   "name": "python3"
  },
  "language_info": {
   "codemirror_mode": {
    "name": "ipython",
    "version": 3
   },
   "file_extension": ".py",
   "mimetype": "text/x-python",
   "name": "python",
   "nbconvert_exporter": "python",
   "pygments_lexer": "ipython3",
   "version": "3.6.5"
  }
 },
 "nbformat": 4,
 "nbformat_minor": 2
}

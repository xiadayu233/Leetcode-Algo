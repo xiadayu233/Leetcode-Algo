{
 "cells": [
  {
   "cell_type": "markdown",
   "metadata": {},
   "source": [
    "## 121. Best Time to Buy and Sell Stock\n",
    "https://leetcode.com/problems/best-time-to-buy-and-sell-stock/#/description\n",
    "<br>至多买卖一次"
   ]
  },
  {
   "cell_type": "code",
   "execution_count": null,
   "metadata": {},
   "outputs": [],
   "source": [
    "class Solution(object):\n",
    "    def maxProfit(self, prices):\n",
    "        \"\"\"\n",
    "        :type prices: List[int]\n",
    "        :rtype: int\n",
    "        \"\"\"\n",
    "        if len(prices) == 0:\n",
    "            return 0\n",
    "        low = prices[0]\n",
    "        ret = 0\n",
    "        for i in range(1,len(prices)):\n",
    "            ret = max(ret, prices[i]-low)\n",
    "            low = min(low,prices[i])\n",
    "        return ret"
   ]
  },
  {
   "cell_type": "markdown",
   "metadata": {},
   "source": [
    "## 122. Best Time to Buy and Sell Stock II\n",
    "https://leetcode.com/problems/best-time-to-buy-and-sell-stock-ii/#/description\n",
    "<br>可以买卖多次"
   ]
  },
  {
   "cell_type": "code",
   "execution_count": null,
   "metadata": {},
   "outputs": [],
   "source": [
    "class Solution(object):\n",
    "    def maxProfit(self, prices):\n",
    "        \"\"\"\n",
    "        :type prices: List[int]\n",
    "        :rtype: int\n",
    "        \"\"\"\n",
    "        i = 1\n",
    "        ret = 0\n",
    "        while i<len(prices):\n",
    "            while i<len(prices) and prices[i-1]>=prices[i]:\n",
    "                i+=1\n",
    "            buy = i-1\n",
    "            while i<len(prices) and prices[i-1]<=prices[i]:\n",
    "                i+=1\n",
    "            sell = i-1\n",
    "            ret+=(prices[sell]-prices[buy])\n",
    "        return ret"
   ]
  },
  {
   "cell_type": "markdown",
   "metadata": {},
   "source": [
    "## 123. Best Time to Buy and Sell Stock III\n",
    "https://leetcode.com/problems/best-time-to-buy-and-sell-stock-iii/#/description\n",
    "<br>至多交易两次"
   ]
  },
  {
   "cell_type": "code",
   "execution_count": null,
   "metadata": {},
   "outputs": [],
   "source": [
    "class Solution(object):\n",
    "    def maxProfit(self, prices):\n",
    "        \"\"\"\n",
    "        :type prices: List[int]\n",
    "        :rtype: int\n",
    "        \"\"\"\n",
    "        if len(prices)<=1:\n",
    "            return 0\n",
    "        buy1 = prices[0]\n",
    "        sell1 = 0\n",
    "        buy2 = prices[0]\n",
    "        sell2 = 0\n",
    "        \n",
    "        for i in range(1, len(prices)):\n",
    "            buy1 = min(prices[i], buy1)\n",
    "            sell1 = max(sell1, prices[i] - buy1)\n",
    "            buy2 = min(buy2, prices[i] - sell1)\n",
    "            sell2 = max(sell2, prices[i] - buy2)\n",
    "        return sell2"
   ]
  },
  {
   "cell_type": "markdown",
   "metadata": {},
   "source": [
    "## 309. Best Time to Buy and Sell Stock with Cooldown\n",
    "https://leetcode.com/problems/best-time-to-buy-and-sell-stock-with-cooldown/"
   ]
  },
  {
   "cell_type": "code",
   "execution_count": null,
   "metadata": {},
   "outputs": [],
   "source": [
    "class Solution(object):\n",
    "    def maxProfit(self, prices):\n",
    "        \"\"\"\n",
    "        :type prices: List[int]\n",
    "        :rtype: int\n",
    "        \"\"\"\n",
    "        # dp\n",
    "        # each point has 3 status\n",
    "        # buy  s0[i] = max(s0[i-1], s2[i-1])\n",
    "        # sell s1[i] = max(si[i-1], s0[i-1] - prices[i])\n",
    "        # rest s2[i] = s1[i-1] + prices[i]\n",
    "        if len(prices)<=1:\n",
    "            return 0\n",
    "        s0, s1, s2 = [0]*len(prices), [0]*len(prices), [0]*len(prices)\n",
    "        s1[0] = -prices[0]\n",
    "        s2[0] = float('-inf')\n",
    "        for i in range(1,len(prices)):\n",
    "            s0[i] = max(s0[i-1], s2[i-1])\n",
    "            s1[i] = max(s1[i-1], s0[i-1]-prices[i])\n",
    "            s2[i] = s1[i-1]+prices[i]\n",
    "        return max(s0[-1], s2[-1])"
   ]
  }
 ],
 "metadata": {
  "kernelspec": {
   "display_name": "Python 3",
   "language": "python",
   "name": "python3"
  },
  "language_info": {
   "codemirror_mode": {
    "name": "ipython",
    "version": 3
   },
   "file_extension": ".py",
   "mimetype": "text/x-python",
   "name": "python",
   "nbconvert_exporter": "python",
   "pygments_lexer": "ipython3",
   "version": "3.6.5"
  }
 },
 "nbformat": 4,
 "nbformat_minor": 2
}

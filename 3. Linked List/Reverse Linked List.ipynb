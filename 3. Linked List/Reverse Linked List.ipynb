{
 "cells": [
  {
   "cell_type": "markdown",
   "metadata": {},
   "source": [
    "## Reverse Linked List\n",
    "reverse the whole linked list\n",
    "<br>https://leetcode.com/problems/reverse-linked-list/"
   ]
  },
  {
   "cell_type": "code",
   "execution_count": 1,
   "metadata": {},
   "outputs": [],
   "source": [
    "class Solution(object):\n",
    "    def reverseList(self, head):\n",
    "        \"\"\"\n",
    "        :type head: ListNode\n",
    "        :rtype: ListNode\n",
    "        \"\"\"\n",
    "        pre, cur = None, head\n",
    "        while cur:\n",
    "            temp = cur.next\n",
    "            cur.next = pre\n",
    "            pre = cur\n",
    "            cur = temp\n",
    "        return pre"
   ]
  },
  {
   "cell_type": "markdown",
   "metadata": {},
   "source": [
    "## Reverse Linked List II\n",
    "reverse part of linked list\n",
    "<br>https://leetcode.com/problems/reverse-linked-list-ii/\n",
    "1. 这道题的dummy node很好用\n",
    "2. 注意start这个pointer从dummy开始"
   ]
  },
  {
   "cell_type": "code",
   "execution_count": null,
   "metadata": {},
   "outputs": [],
   "source": [
    "#Definition for singly-linked list.\n",
    "class ListNode(object):\n",
    "    def __init__(self, val=0, next=None):\n",
    "        self.val = val\n",
    "        self.next = next\n",
    "\n",
    "class Solution(object):\n",
    "    def reverseBetween(self, head, m, n):\n",
    "        dummy = ListNode(0)\n",
    "        dummy.next = head\n",
    "        #locate start position\n",
    "        '''\n",
    "        the following is the tricky part\n",
    "        start begin with the dummy\n",
    "        track the position of start.next\n",
    "        '''\n",
    "        start = dummy\n",
    "        for i in range(m-1):\n",
    "            start = start.next\n",
    "        pre, cur = None, start.next\n",
    "        for i in range(m,n+1):\n",
    "            temp = cur.next\n",
    "            cur.next = pre\n",
    "            pre = cur\n",
    "            cur = temp\n",
    "        end = start.next\n",
    "        start.next = pre\n",
    "        end.next = cur\n",
    "        return dummy.next"
   ]
  },
  {
   "cell_type": "markdown",
   "metadata": {},
   "source": [
    "## Reverse Nodes in k-Group\n",
    "https://leetcode.com/problems/reverse-nodes-in-k-group/\n",
    "1. dummy很好用，尤其是initiate the loop\n",
    "2. set variable \"pre_tail\", \"cur_tail\"\n"
   ]
  },
  {
   "cell_type": "code",
   "execution_count": null,
   "metadata": {},
   "outputs": [],
   "source": [
    "# Definition for singly-linked list.\n",
    "class ListNode(object):\n",
    "    def __init__(self, val=0, next=None):\n",
    "        self.val = val\n",
    "        self.next = next\n",
    "class Solution(object):\n",
    "    def reverseKGroup(self, head, k):\n",
    "        \"\"\"\n",
    "        :type head: ListNode\n",
    "        :type k: int\n",
    "        :rtype: ListNode\n",
    "        \"\"\"\n",
    "        dummy = ListNode(0)\n",
    "        dummy.next = head\n",
    "        length, p = 0, head\n",
    "        while p:\n",
    "            p = p.next\n",
    "            length+=1\n",
    "        cur = head\n",
    "        pre_tail, cur_tail = dummy, head\n",
    "        for i in range(length//k):\n",
    "            pre = None\n",
    "            for j in range(k):\n",
    "                temp = cur.next\n",
    "                cur.next = pre\n",
    "                pre = cur\n",
    "                cur = temp\n",
    "            pre_tail.next = pre\n",
    "            pre_tail = cur_tail\n",
    "            cur_tail = cur \n",
    "        if length%k >0:\n",
    "            pre_tail.next = cur_tail\n",
    "        return dummy.next"
   ]
  }
 ],
 "metadata": {
  "kernelspec": {
   "display_name": "Python 3",
   "language": "python",
   "name": "python3"
  },
  "language_info": {
   "codemirror_mode": {
    "name": "ipython",
    "version": 3
   },
   "file_extension": ".py",
   "mimetype": "text/x-python",
   "name": "python",
   "nbconvert_exporter": "python",
   "pygments_lexer": "ipython3",
   "version": "3.6.5"
  }
 },
 "nbformat": 4,
 "nbformat_minor": 2
}

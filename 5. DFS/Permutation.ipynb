{
 "cells": [
  {
   "cell_type": "markdown",
   "metadata": {},
   "source": [
    "## I. Permutation\n",
    "https://leetcode.com/problems/permutations/\n",
    "<br>注意permutation和combination的区别，permutation传一个set记录已经使用过的元素，combination传start"
   ]
  },
  {
   "cell_type": "code",
   "execution_count": null,
   "metadata": {},
   "outputs": [],
   "source": [
    "def dfs(nums, ret, cur, visited):\n",
    "    if len(visited) == len(nums):\n",
    "        new_cur = cur[:]\n",
    "        ret.append(new_cur)\n",
    "        return\n",
    "    for num in nums:\n",
    "        if num not in visited:\n",
    "            visited.add(num)\n",
    "            cur.append(num)\n",
    "            dfs(nums, ret, cur, visited)\n",
    "            cur.pop(-1)\n",
    "            visited.remove(num)\n",
    "    return\n",
    "\n",
    "class Solution(object):\n",
    "    def permute(self, nums):\n",
    "        \"\"\"\n",
    "        :type nums: List[int]\n",
    "        :rtype: List[List[int]]\n",
    "        \"\"\"\n",
    "        ret = []\n",
    "        visited = set()\n",
    "        dfs(nums, ret, [], visited)\n",
    "        return ret"
   ]
  },
  {
   "cell_type": "code",
   "execution_count": null,
   "metadata": {},
   "outputs": [],
   "source": []
  },
  {
   "cell_type": "code",
   "execution_count": null,
   "metadata": {},
   "outputs": [],
   "source": [
    "def dfs(nums, ret, cur, c):\n",
    "    if len(cur) == len(nums):\n",
    "        new_cur = cur[:]\n",
    "        ret.append(new_cur)\n",
    "        return\n",
    "    i = 0\n",
    "    while i<len(nums):\n",
    "        while i>0 and i<len(nums) and nums[i] == nums[i-1]:\n",
    "            i+=1\n",
    "        if i<len(nums) and c[nums[i]]>0:\n",
    "            cur.append(nums[i])\n",
    "            c[nums[i]]-=1\n",
    "            dfs(nums, ret, cur, c)\n",
    "            c[nums[i]]+=1\n",
    "            cur.pop(-1)\n",
    "        i+=1\n",
    "    return     \n",
    "\n",
    "class Solution(object):\n",
    "    def permuteUnique(self, nums):\n",
    "        \"\"\"\n",
    "        :type nums: List[int]\n",
    "        :rtype: List[List[int]]\n",
    "        \"\"\"\n",
    "        from collections import Counter\n",
    "        nums = sorted(nums)\n",
    "        ret = []\n",
    "        c = Counter(nums)\n",
    "        dfs(nums, ret, [], c)\n",
    "        return ret"
   ]
  }
 ],
 "metadata": {
  "kernelspec": {
   "display_name": "Python 3",
   "language": "python",
   "name": "python3"
  },
  "language_info": {
   "codemirror_mode": {
    "name": "ipython",
    "version": 3
   },
   "file_extension": ".py",
   "mimetype": "text/x-python",
   "name": "python",
   "nbconvert_exporter": "python",
   "pygments_lexer": "ipython3",
   "version": "3.6.5"
  }
 },
 "nbformat": 4,
 "nbformat_minor": 2
}

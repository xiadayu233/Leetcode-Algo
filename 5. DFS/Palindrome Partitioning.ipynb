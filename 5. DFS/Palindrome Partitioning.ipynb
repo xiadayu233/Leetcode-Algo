{
 "cells": [
  {
   "cell_type": "markdown",
   "metadata": {},
   "source": [
    "## I. Palindrome Partitioning\n",
    "https://leetcode.com/problems/palindrome-partitioning/\n",
    "<br>把一个字符串切割成回文子串，问所有的可能组合"
   ]
  },
  {
   "cell_type": "code",
   "execution_count": null,
   "metadata": {},
   "outputs": [],
   "source": [
    "def isPalindrome(s, start, end):\n",
    "    while start<=end and s[start] == s[end]:\n",
    "        start+=1\n",
    "        end-=1\n",
    "    if start>end:\n",
    "        return True\n",
    "    return False\n",
    "\n",
    "def dfs(s, ret, cur, start):\n",
    "    if start>=len(s):\n",
    "        new_cur = cur[:]\n",
    "        ret.append(new_cur)\n",
    "        return \n",
    "    i = start\n",
    "    while i<len(s):\n",
    "        if isPalindrome(s, start, i):\n",
    "            cur.append(s[start:i+1])\n",
    "            dfs(s,ret,cur,i+1)\n",
    "            cur.pop(-1)\n",
    "        i+=1\n",
    "    return\n",
    "\n",
    "class Solution(object):\n",
    "    def partition(self, s):\n",
    "        \"\"\"\n",
    "        :type s: str\n",
    "        :rtype: List[List[str]]\n",
    "        \"\"\"\n",
    "        ret = []\n",
    "        dfs(s, ret, [], 0)\n",
    "        return ret"
   ]
  },
  {
   "cell_type": "markdown",
   "metadata": {},
   "source": [
    "## II. Palindrome Partitioning\n",
    "https://leetcode.com/problems/palindrome-partitioning-ii/\n",
    "<br> Return the minimum cuts\n",
    "<br> 下面是用dfs做的，超时了，所以又是一道用dp的题"
   ]
  },
  {
   "cell_type": "code",
   "execution_count": 1,
   "metadata": {},
   "outputs": [],
   "source": [
    "def isPalindrome(s):\n",
    "    head, tail = 0, len(s)-1\n",
    "    while head<tail and s[head] == s[tail]:\n",
    "        head+=1\n",
    "        tail-=1\n",
    "    if head>=tail:\n",
    "        return True\n",
    "    return False\n",
    "class Solution(object):\n",
    "    def minCut(self, s):\n",
    "        \"\"\"\n",
    "        :type s: str\n",
    "        :rtype: int\n",
    "        \"\"\"\n",
    "        self.ret = len(s)\n",
    "        def dfs(s, cur, start):\n",
    "            if start>=len(s):\n",
    "                self.ret = min(self.ret, len(cur))\n",
    "            i = start\n",
    "            while i<len(s):\n",
    "                if isPalindrome(s[start:i+1]):\n",
    "                    cur.append(s[start:i+1])\n",
    "                    dfs(s, cur, i+1)\n",
    "                    cur.pop(-1)\n",
    "                i+=1\n",
    "            return\n",
    "        dfs(s,[],0)\n",
    "        return self.ret-1"
   ]
  },
  {
   "cell_type": "code",
   "execution_count": 4,
   "metadata": {},
   "outputs": [
    {
     "name": "stdout",
     "output_type": "stream",
     "text": [
      "0\n"
     ]
    }
   ],
   "source": [
    "s = Solution()\n",
    "print(s.minCut(\"abababa\"))"
   ]
  },
  {
   "cell_type": "code",
   "execution_count": null,
   "metadata": {},
   "outputs": [],
   "source": []
  }
 ],
 "metadata": {
  "kernelspec": {
   "display_name": "Python 3",
   "language": "python",
   "name": "python3"
  },
  "language_info": {
   "codemirror_mode": {
    "name": "ipython",
    "version": 3
   },
   "file_extension": ".py",
   "mimetype": "text/x-python",
   "name": "python",
   "nbconvert_exporter": "python",
   "pygments_lexer": "ipython3",
   "version": "3.6.5"
  }
 },
 "nbformat": 4,
 "nbformat_minor": 2
}

{
 "cells": [
  {
   "cell_type": "markdown",
   "metadata": {},
   "source": [
    "## Evaluate Division\n",
    "https://leetcode.com/problems/evaluate-division/\n",
    "1. application of dfs\n",
    "2. \"visited\" used to track the positions we have tranversed to avoid loops\n",
    "3. \"cur\" is the current path"
   ]
  },
  {
   "cell_type": "code",
   "execution_count": null,
   "metadata": {},
   "outputs": [],
   "source": [
    "def dfs(edge, value, visited, cur, query):\n",
    "    if query[0] not in edge or query[1] not in edge:\n",
    "        return False, -1.0\n",
    "    if query[0] == query[1]:\n",
    "        ret = 1\n",
    "        for x in cur:\n",
    "            ret*=value[x]\n",
    "        return True, ret\n",
    "\n",
    "    for e in edge[query[0]]:\n",
    "        if e not in visited:\n",
    "            visited.add(e)\n",
    "            cur.append((query[0],e))\n",
    "            find, ret = dfs(edge, value, visited, cur,[e,query[1]])\n",
    "            if find:\n",
    "                return True, ret\n",
    "            visited.remove(e)\n",
    "            cur.pop(-1)\n",
    "    return False, -1\n",
    "\n",
    "class Solution(object):\n",
    "    def calcEquation(self, equations, values, queries):\n",
    "        \"\"\"\n",
    "        :type equations: List[List[str]]\n",
    "        :type values: List[float]\n",
    "        :type queries: List[List[str]]\n",
    "        :rtype: List[float]\n",
    "        \"\"\"\n",
    "        edge = {}\n",
    "        value = {}\n",
    "        for i in range(len(equations)):\n",
    "            e, val = equations[i], values[i]\n",
    "            if e[0] not in edge:\n",
    "                edge[e[0]] = [e[1]]\n",
    "            else:\n",
    "                edge[e[0]].append(e[1])\n",
    "            if e[1] not in edge:\n",
    "                edge[e[1]] = [e[0]]\n",
    "            else:\n",
    "                edge[e[1]].append(e[0])\n",
    "            value[(e[0],e[1])] = val\n",
    "            value[(e[1],e[0])] = 1.0/val\n",
    "        ret = []\n",
    "        for e in queries:\n",
    "            find, temp = dfs(edge, value, set(), [], e)\n",
    "            ret.append(temp)\n",
    "        return ret"
   ]
  }
 ],
 "metadata": {
  "kernelspec": {
   "display_name": "Python 3",
   "language": "python",
   "name": "python3"
  },
  "language_info": {
   "codemirror_mode": {
    "name": "ipython",
    "version": 3
   },
   "file_extension": ".py",
   "mimetype": "text/x-python",
   "name": "python",
   "nbconvert_exporter": "python",
   "pygments_lexer": "ipython3",
   "version": "3.6.5"
  }
 },
 "nbformat": 4,
 "nbformat_minor": 2
}

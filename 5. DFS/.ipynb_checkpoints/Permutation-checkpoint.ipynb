{
 "cells": [
  {
   "cell_type": "markdown",
   "metadata": {},
   "source": [
    "## I. Permutation\n",
    "https://leetcode.com/problems/permutations/\n",
    "<br>注意permutation和combination的区别，permutation传一个set记录已经使用过的元素，combination传start"
   ]
  },
  {
   "cell_type": "code",
   "execution_count": null,
   "metadata": {},
   "outputs": [],
   "source": [
    "def dfs(nums, ret, cur, visited):\n",
    "    if len(visited) == len(nums):\n",
    "        new_cur = cur[:]\n",
    "        ret.append(new_cur)\n",
    "        return\n",
    "    for num in nums:\n",
    "        if num not in visited:\n",
    "            visited.add(num)\n",
    "            cur.append(num)\n",
    "            dfs(nums, ret, cur, visited)\n",
    "            cur.pop(-1)\n",
    "            visited.remove(num)\n",
    "    return\n",
    "\n",
    "class Solution(object):\n",
    "    def permute(self, nums):\n",
    "        \"\"\"\n",
    "        :type nums: List[int]\n",
    "        :rtype: List[List[int]]\n",
    "        \"\"\"\n",
    "        ret = []\n",
    "        visited = set()\n",
    "        dfs(nums, ret, [], visited)\n",
    "        return ret"
   ]
  }
 ],
 "metadata": {
  "kernelspec": {
   "display_name": "Python 3",
   "language": "python",
   "name": "python3"
  },
  "language_info": {
   "codemirror_mode": {
    "name": "ipython",
    "version": 3
   },
   "file_extension": ".py",
   "mimetype": "text/x-python",
   "name": "python",
   "nbconvert_exporter": "python",
   "pygments_lexer": "ipython3",
   "version": "3.6.5"
  }
 },
 "nbformat": 4,
 "nbformat_minor": 2
}

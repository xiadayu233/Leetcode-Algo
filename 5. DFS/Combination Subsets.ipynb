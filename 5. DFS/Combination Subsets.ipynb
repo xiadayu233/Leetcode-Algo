{
 "cells": [
  {
   "cell_type": "markdown",
   "metadata": {},
   "source": [
    "## I. Subsets with distinct numbers\n",
    "https://leetcode.com/problems/subsets/"
   ]
  },
  {
   "cell_type": "code",
   "execution_count": 5,
   "metadata": {},
   "outputs": [],
   "source": [
    "def dfs(nums, ret, cur, start):\n",
    "    if start>=len(nums):\n",
    "        return\n",
    "    for i in range(start, len(nums)):\n",
    "        cur.append(nums[i])\n",
    "        new_cur = cur[:]\n",
    "        ret.append(new_cur)\n",
    "        dfs(nums, ret, cur, i+1)\n",
    "        cur.pop(-1)\n",
    "    return\n",
    "\n",
    "def subsets(nums):\n",
    "    \"\"\"\n",
    "    :type nums: List[int]\n",
    "    :rtype: List[List[int]]\n",
    "    \"\"\"\n",
    "    ret = [[]]\n",
    "    dfs(nums, ret, [], 0)\n",
    "    return ret"
   ]
  },
  {
   "cell_type": "code",
   "execution_count": 6,
   "metadata": {},
   "outputs": [
    {
     "name": "stdout",
     "output_type": "stream",
     "text": [
      "[[], [1], [1, 2], [1, 2, 3], [1, 3], [2], [2, 3], [3]]\n"
     ]
    }
   ],
   "source": [
    "nums = [1,2,3]\n",
    "print(subsets(nums))"
   ]
  },
  {
   "cell_type": "markdown",
   "metadata": {},
   "source": [
    "## II. Subsets with duplicate numbers\n",
    "https://leetcode.com/problems/subsets-ii/\n",
    "1. note that the arr should be sorted\n",
    "2. we need a parameter 'start' to tell us the start position\n",
    "3. we have duplicates here, so shoudn't iterate all the vals in arr, instead we need to jump some vals"
   ]
  },
  {
   "cell_type": "code",
   "execution_count": 9,
   "metadata": {},
   "outputs": [],
   "source": [
    "def dfs(nums, ret, cur, start):\n",
    "    if start >= len(nums):\n",
    "        return\n",
    "    i = start\n",
    "    while i<len(nums):\n",
    "        while i>start and i<len(nums) and nums[i] == nums[i-1]:\n",
    "                i+=1\n",
    "        if i<len(nums):\n",
    "            cur.append(nums[i])\n",
    "            new_cur = cur[:]\n",
    "            ret.append(new_cur)\n",
    "            dfs(nums, ret, cur, i+1)\n",
    "            cur.pop(-1)\n",
    "            i+=1\n",
    "    return \n",
    "\n",
    "def subsetsWithDup(nums):\n",
    "    \"\"\"\n",
    "    :type nums: List[int]\n",
    "    :rtype: List[List[int]]\n",
    "    \"\"\"\n",
    "    nums = sorted(nums)\n",
    "    ret = [[]]\n",
    "    dfs(nums, ret, [], 0)\n",
    "    return ret"
   ]
  },
  {
   "cell_type": "code",
   "execution_count": 10,
   "metadata": {},
   "outputs": [
    {
     "name": "stdout",
     "output_type": "stream",
     "text": [
      "[[], [1], [1, 2], [1, 2, 2], [2], [2, 2]]\n"
     ]
    }
   ],
   "source": [
    "print(subsetsWithDup([1,2,2]))"
   ]
  },
  {
   "cell_type": "code",
   "execution_count": null,
   "metadata": {},
   "outputs": [],
   "source": []
  }
 ],
 "metadata": {
  "kernelspec": {
   "display_name": "Python 3",
   "language": "python",
   "name": "python3"
  },
  "language_info": {
   "codemirror_mode": {
    "name": "ipython",
    "version": 3
   },
   "file_extension": ".py",
   "mimetype": "text/x-python",
   "name": "python",
   "nbconvert_exporter": "python",
   "pygments_lexer": "ipython3",
   "version": "3.6.5"
  }
 },
 "nbformat": 4,
 "nbformat_minor": 2
}

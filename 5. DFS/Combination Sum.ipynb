{
 "cells": [
  {
   "cell_type": "markdown",
   "metadata": {},
   "source": [
    "## I. Combination Sum without duplicates\n",
    "https://leetcode.com/problems/combination-sum/\n",
    "1. no duplicates\n",
    "2. each element can be selected for multiple times"
   ]
  },
  {
   "cell_type": "code",
   "execution_count": null,
   "metadata": {},
   "outputs": [],
   "source": [
    "def dfs(candidates, ret, cur, start, target):\n",
    "    if target == 0:\n",
    "        new_cur = cur[:]\n",
    "        ret.append(new_cur)\n",
    "        return\n",
    "    if start>=len(candidates):\n",
    "        return \n",
    "    for i in range(start, len(candidates)):\n",
    "        if candidates[i]>target:\n",
    "            return\n",
    "        cur.append(candidates[i])\n",
    "        dfs(candidates, ret, cur, i, target-candidates[i])\n",
    "        cur.pop(-1)\n",
    "    return\n",
    "\n",
    "class Solution(object):\n",
    "    def combinationSum(self, candidates, target):\n",
    "        \"\"\"\n",
    "        :type candidates: List[int]\n",
    "        :type target: int\n",
    "        :rtype: List[List[int]]\n",
    "        \"\"\"\n",
    "        candidates = sorted(candidates)\n",
    "        ret = []\n",
    "        dfs(candidates, ret, [], 0, target)\n",
    "        return ret"
   ]
  },
  {
   "cell_type": "markdown",
   "metadata": {},
   "source": [
    "## II. Combination Sum with Duplicates\n",
    "https://leetcode.com/problems/combination-sum-ii/\n",
    "1. with duplicates\n",
    "2. Each number in candidates may only be used once in the combination."
   ]
  },
  {
   "cell_type": "code",
   "execution_count": null,
   "metadata": {},
   "outputs": [],
   "source": [
    "def dfs(candidates, ret, cur, start, target):\n",
    "    if target == 0:\n",
    "        new_cur = cur[:]\n",
    "        ret.append(new_cur)\n",
    "    if start>=len(candidates):\n",
    "        return\n",
    "    i = start\n",
    "    while i<len(candidates):\n",
    "        while i>start and i<len(candidates) and candidates[i] == candidates[i-1]:\n",
    "            i+=1\n",
    "        if i<len(candidates) and candidates[i]<=target:\n",
    "            cur.append(candidates[i])\n",
    "            dfs(candidates, ret, cur, i+1, target - candidates[i])\n",
    "            cur.pop(-1)\n",
    "        i+=1\n",
    "    return\n",
    "\n",
    "class Solution(object):\n",
    "    def combinationSum2(self, candidates, target):\n",
    "        \"\"\"\n",
    "        :type candidates: List[int]\n",
    "        :type target: int\n",
    "        :rtype: List[List[int]]\n",
    "        \"\"\"\n",
    "        candidates = sorted(candidates)\n",
    "        ret = []\n",
    "        dfs(candidates, ret, [], 0, target)\n",
    "        return ret"
   ]
  },
  {
   "cell_type": "markdown",
   "metadata": {},
   "source": [
    "## Combination Sum III\n",
    "https://leetcode.com/problems/combination-sum-iii/\n",
    "1. Find all possible combinations of k numbers that add up to a number n\n",
    "2. only numbers from 1 to 9 can be used and each combination should be a unique set of numbers"
   ]
  },
  {
   "cell_type": "code",
   "execution_count": null,
   "metadata": {},
   "outputs": [],
   "source": [
    "def dfs(k, target, ret, cur, start):\n",
    "    if len(cur) == k and target == 0:\n",
    "        new_cur = cur[:]\n",
    "        ret.append(new_cur)\n",
    "        return\n",
    "    elif len(cur)<k:\n",
    "        for i in range(start, 10):\n",
    "            if i<=target:\n",
    "                cur.append(i)\n",
    "                dfs(k, target-i, ret, cur, i+1)\n",
    "                cur.pop(-1)\n",
    "        return\n",
    "    return\n",
    "\n",
    "class Solution(object):\n",
    "    def combinationSum3(self, k, n):\n",
    "        \"\"\"\n",
    "        :type k: int\n",
    "        :type n: int\n",
    "        :rtype: List[List[int]]\n",
    "        \"\"\"\n",
    "        ret = []\n",
    "        dfs(k,n,ret,[],1)\n",
    "        return ret"
   ]
  }
 ],
 "metadata": {
  "kernelspec": {
   "display_name": "Python 3",
   "language": "python",
   "name": "python3"
  },
  "language_info": {
   "codemirror_mode": {
    "name": "ipython",
    "version": 3
   },
   "file_extension": ".py",
   "mimetype": "text/x-python",
   "name": "python",
   "nbconvert_exporter": "python",
   "pygments_lexer": "ipython3",
   "version": "3.6.5"
  }
 },
 "nbformat": 4,
 "nbformat_minor": 2
}

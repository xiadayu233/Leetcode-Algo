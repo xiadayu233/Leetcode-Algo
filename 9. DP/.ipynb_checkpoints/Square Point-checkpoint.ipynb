{
 "cells": [
  {
   "cell_type": "markdown",
   "metadata": {},
   "source": [
    "## eg1\n",
    "问n个人占n个座位，每个人进去了以后随机选座，但是不能选已经被占的座位的相邻座位，what's the expected number of occupied seats in the end。"
   ]
  },
  {
   "cell_type": "code",
   "execution_count": 3,
   "metadata": {},
   "outputs": [],
   "source": [
    "def occupiedSeat(n):\n",
    "    arr = [0]*(n+1)\n",
    "    # [0,0,0,1,0,0,0,0,0,0]\n",
    "    # select the 4th position\n",
    "    # f(n) = 1/n*(f(2)+f(5))\n",
    "    # f(n) = 1/n*(f(i-2)+f(n-i-1)+1)\n",
    "    arr[0], arr[1], arr[2] = 0, 1, 1\n",
    "    for i in range(3, n+1):\n",
    "        temp = 0\n",
    "        for j in range(1, i+1):\n",
    "            temp+=(arr[max(0,j-2)]+arr[max(0, i-j-1)]+1)\n",
    "        temp/=float(i)\n",
    "        arr[i] = temp\n",
    "    print(arr)\n",
    "    return arr[-1]"
   ]
  },
  {
   "cell_type": "code",
   "execution_count": 4,
   "metadata": {},
   "outputs": [
    {
     "name": "stdout",
     "output_type": "stream",
     "text": [
      "[0, 1, 1, 1.6666666666666667, 2.0, 2.4666666666666672, 2.8888888888888893, 3.323809523809524, 3.755555555555556, 4.188007054673721, 4.620317460317461]\n"
     ]
    },
    {
     "data": {
      "text/plain": [
       "4.620317460317461"
      ]
     },
     "execution_count": 4,
     "metadata": {},
     "output_type": "execute_result"
    }
   ],
   "source": [
    "occupiedSeat(10)"
   ]
  },
  {
   "cell_type": "markdown",
   "metadata": {},
   "source": [
    "## eg2 BFS\n",
    "给一个m*n的matrix，全部都是海洋，然后给一个list是一串坐标，list的每个坐标都是岛，返回一个list，给出截止到当前岛的个数"
   ]
  },
  {
   "cell_type": "code",
   "execution_count": null,
   "metadata": {},
   "outputs": [],
   "source": []
  }
 ],
 "metadata": {
  "kernelspec": {
   "display_name": "Python 3",
   "language": "python",
   "name": "python3"
  },
  "language_info": {
   "codemirror_mode": {
    "name": "ipython",
    "version": 3
   },
   "file_extension": ".py",
   "mimetype": "text/x-python",
   "name": "python",
   "nbconvert_exporter": "python",
   "pygments_lexer": "ipython3",
   "version": "3.6.5"
  }
 },
 "nbformat": 4,
 "nbformat_minor": 2
}

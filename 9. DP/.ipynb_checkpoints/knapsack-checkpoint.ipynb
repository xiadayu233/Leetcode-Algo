{
 "cells": [
  {
   "cell_type": "markdown",
   "metadata": {},
   "source": [
    "## 0/1 knapsack\n",
    "416. Partition Equal Subset Sum: https://leetcode.com/problems/partition-equal-subset-sum/\n",
    "<br> 这道题其实还是说在一个list里面找一个combination，让他的sum == target\n",
    "<br> 这是01背包问题是因为，对于每一个元素，都有两种选择，放进去或者不放进去"
   ]
  },
  {
   "cell_type": "code",
   "execution_count": null,
   "metadata": {},
   "outputs": [],
   "source": [
    "class Solution(object):\n",
    "    def canPartition(self, nums):\n",
    "        \"\"\"\n",
    "        :type nums: List[int]\n",
    "        :rtype: bool\n",
    "        \"\"\"\n",
    "        #knapsack problem\n",
    "        if sum(nums)%2 == 1:\n",
    "            return False\n",
    "        if len(nums) == 1:\n",
    "            return False\n",
    "        target = sum(nums)//2\n",
    "        #initiate the first row\n",
    "        last_row = []\n",
    "        for i in range(target+1):\n",
    "            if nums[0]<=i:\n",
    "                last_row.append(nums[0])\n",
    "            else:\n",
    "                last_row.append(0)\n",
    "        #loop\n",
    "        for item in range(1, len(nums)):\n",
    "            row = []\n",
    "            for weight in range(target+1):\n",
    "                if nums[item]<=weight:\n",
    "                    #put the current item into the bag\n",
    "                    temp1 = nums[item]+last_row[weight-nums[item]]\n",
    "                    temp2 = last_row[weight]\n",
    "                    if weight - temp1 < weight -temp2:\n",
    "                        row.append(temp1)\n",
    "                    else:\n",
    "                        row.append(temp2)\n",
    "                else:\n",
    "                    row.append(last_row[weight])\n",
    "            last_row = row\n",
    "        if row[-1] == target:\n",
    "            return True\n",
    "        return False"
   ]
  },
  {
   "cell_type": "markdown",
   "metadata": {},
   "source": [
    "## knapsack plus\n",
    "494. Target Sum: https://leetcode.com/problems/target-sum/\n",
    "<br> 这道题代码里面好多小的坑\n",
    "<br> 首先就是在initiate last_row的时候，第一个元素也就是weight = 0对应的元素，不应该是0，而应该是1\n",
    "<br> 其次就是注意input里面有0的情况，也还是在initiate last_row的时候，应该是last_row[weight] += 1"
   ]
  },
  {
   "cell_type": "code",
   "execution_count": null,
   "metadata": {},
   "outputs": [],
   "source": [
    "class Solution(object):\n",
    "    def findTargetSumWays(self, nums, S):\n",
    "        \"\"\"\n",
    "        :type nums: List[int]\n",
    "        :type S: int\n",
    "        :rtype: int\n",
    "        \"\"\"\n",
    "        #knapsack problem\n",
    "        if (sum(nums) - S)%2 ==1:\n",
    "            return 0\n",
    "        target = (sum(nums) - S)//2\n",
    "        if target<0:\n",
    "            return 0\n",
    "        nums = sorted(nums)\n",
    "        #initiate the last_row\n",
    "        last_row = [0]*(target+1)\n",
    "        last_row[0] = 1\n",
    "        for weight in range(target+1):\n",
    "            if nums[0]==weight:\n",
    "                last_row[weight] += 1\n",
    "        #loop\n",
    "        #print(last_row)\n",
    "        for item in range(1, len(nums)):\n",
    "            row = [0]*(target+1)\n",
    "            for weight in range(target+1):\n",
    "                if nums[item]<=weight:\n",
    "                    #put current item into the bag\n",
    "                    row[weight]+=last_row[weight - nums[item]]\n",
    "                    #dont put\n",
    "                    row[weight]+=last_row[weight]\n",
    "                    \n",
    "                else:\n",
    "                    row[weight]+=last_row[weight]\n",
    "            last_row = row\n",
    "            #print(row)\n",
    "        return last_row[-1]"
   ]
  }
 ],
 "metadata": {
  "kernelspec": {
   "display_name": "Python 3",
   "language": "python",
   "name": "python3"
  },
  "language_info": {
   "codemirror_mode": {
    "name": "ipython",
    "version": 3
   },
   "file_extension": ".py",
   "mimetype": "text/x-python",
   "name": "python",
   "nbconvert_exporter": "python",
   "pygments_lexer": "ipython3",
   "version": "3.6.5"
  }
 },
 "nbformat": 4,
 "nbformat_minor": 2
}

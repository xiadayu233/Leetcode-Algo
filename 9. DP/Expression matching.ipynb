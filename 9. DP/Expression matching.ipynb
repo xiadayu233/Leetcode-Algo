{
 "cells": [
  {
   "cell_type": "markdown",
   "metadata": {},
   "source": [
    "## regular expression matching\n",
    "\n",
    "https://leetcode.com/problems/regular-expression-matching/"
   ]
  },
  {
   "cell_type": "code",
   "execution_count": null,
   "metadata": {},
   "outputs": [],
   "source": [
    "class Solution(object):\n",
    "    def isMatch(self, s, p):\n",
    "        # The DP table and the string s and p use the same indexes i and j, but\n",
    "        # table[i][j] means the match status between p[:i] and s[:j], i.e.\n",
    "        # table[0][0] means the match status of two empty strings, and\n",
    "        # table[1][1] means the match status of p[0] and s[0]. Therefore, when\n",
    "        # refering to the i-th and the j-th characters of p and s for updating\n",
    "        # table[i][j], we use p[i - 1] and s[j - 1].\n",
    "\n",
    "        # Initialize the table with False. The first row is satisfied.\n",
    "        table = [[False] * (len(s) + 1) for _ in range(len(p) + 1)]\n",
    "\n",
    "        # Update the corner case of matching two empty strings.\n",
    "        table[0][0] = True\n",
    "\n",
    "        # Update the corner case of when s is an empty string but p is not.\n",
    "        # Since each '*' can eliminate the charter before it, the table is\n",
    "        # vertically updated by the one before previous. [test_symbol_0]\n",
    "        for i in range(2, len(p) + 1):\n",
    "            table[i][0] = table[i - 2][0] and p[i - 1] == '*'\n",
    "\n",
    "        for i in range(1, len(p) + 1):\n",
    "            for j in range(1, len(s) + 1):\n",
    "                if p[i - 1] != \"*\":\n",
    "                    # Update the table by referring the diagonal element.\n",
    "                    table[i][j] = table[i - 1][j - 1] and \\\n",
    "                                  (p[i - 1] == s[j - 1] or p[i - 1] == '.')\n",
    "                else:\n",
    "                    # Eliminations (referring to the vertical element)\n",
    "                    # Either refer to the one before previous or the previous.\n",
    "                    # I.e. * eliminate the previous or count the previous.\n",
    "                    # [test_symbol_1]\n",
    "                    table[i][j] = table[i - 2][j] or table[i - 1][j]\n",
    "\n",
    "                    # Propagations (referring to the horizontal element)\n",
    "                    # If p's previous one is equal to the current s, with\n",
    "                    # helps of *, the status can be propagated from the left.\n",
    "                    # [test_symbol_2]\n",
    "                    if p[i - 2] == s[j - 1] or p[i - 2] == '.':\n",
    "                        table[i][j] |= table[i][j - 1]\n",
    "\n",
    "        return table[-1][-1]"
   ]
  },
  {
   "cell_type": "markdown",
   "metadata": {},
   "source": [
    "## simplified version\n",
    "1. '.' match any letter\n",
    "2. '*' match any 0 or more letter"
   ]
  },
  {
   "cell_type": "code",
   "execution_count": null,
   "metadata": {},
   "outputs": [],
   "source": [
    "def match(s,p):\n",
    "    # corner case\n",
    "    all_star = True\n",
    "    for i in range(len(p)):\n",
    "        if p[i]!= '*':\n",
    "            all_star = False\n",
    "            break\n",
    "    if all_star:\n",
    "        return True\n",
    "    if len(s) ==0 and len(p) == 0:\n",
    "        return True\n",
    "    if len(s) == 0 or len(p) == 0:\n",
    "        return False\n",
    "    if p[0]!='.' and p[0]!=[*]:\n",
    "        if p[0] == s[0]:\n",
    "            return match(s[1:], p[1:])\n",
    "        else:\n",
    "            return False\n",
    "    elif p[0] == '.':\n",
    "        return match(s[1:], p[1:])\n",
    "    elif p[0] == '*':\n",
    "        # beautiful and tricky\n",
    "        return match(s[1:], p) or match(s,p[1:])"
   ]
  }
 ],
 "metadata": {
  "kernelspec": {
   "display_name": "Python 3",
   "language": "python",
   "name": "python3"
  },
  "language_info": {
   "codemirror_mode": {
    "name": "ipython",
    "version": 3
   },
   "file_extension": ".py",
   "mimetype": "text/x-python",
   "name": "python",
   "nbconvert_exporter": "python",
   "pygments_lexer": "ipython3",
   "version": "3.6.5"
  }
 },
 "nbformat": 4,
 "nbformat_minor": 2
}

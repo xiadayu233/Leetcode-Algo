{
 "cells": [
  {
   "cell_type": "markdown",
   "metadata": {},
   "source": [
    "## Array Journey\n",
    "You are standing at the start of intergers, you want to move to the end of the array, collecting as many points as possible along the way. Each step can cover a maximum number of elements. Each time you land on an element, it's value is added to your score. What is the maximum score achievable?\n",
    "\n",
    "Example:\n",
    "<br> path = [10, 2, -10, 5, 20]\n",
    "<br> maxStep = 2\n",
    "<br> return 37"
   ]
  },
  {
   "cell_type": "code",
   "execution_count": null,
   "metadata": {},
   "outputs": [],
   "source": [
    "## Array Journey\n",
    "def journey(path, maxStep):\n",
    "    ret = [path[0]]\n",
    "    cur = 1\n",
    "    while cur<len(path):\n",
    "        temp = max(ret[max(-maxStep,0):])+path[cur]\n",
    "        ret.append(temp)\n",
    "        cur+=1\n",
    "    return ret[-1]"
   ]
  },
  {
   "cell_type": "code",
   "execution_count": null,
   "metadata": {},
   "outputs": [],
   "source": [
    "## Array Journey\n",
    "def journey(path, maxStep):\n",
    "    from collections import deque\n",
    "    #stack is decreasing, stack[0] is the biggest\n",
    "    stack = deque([path[0]])\n",
    "    idxstack = deque([0])\n",
    "    cur = 1\n",
    "    while cur<len(path):\n",
    "        if idxstack[0]<cur-maxStep:\n",
    "            idxstack.popleft()\n",
    "            stack.popleft()\n",
    "        temp = path[cur]+stack[0]\n",
    "        while stack and temp>stack[-1]:\n",
    "            stack.pop()\n",
    "            idxstack.pop()\n",
    "        stack.append(temp)\n",
    "        idxstack.append(cur)\n",
    "        cur+=1\n",
    "    return stack[-1]"
   ]
  },
  {
   "cell_type": "markdown",
   "metadata": {},
   "source": [
    "## 322. Coin Change\n",
    "https://leetcode.com/problems/coin-change/\n",
    "<br> You are given coins of different denominations and a total amount of money amount. Write a function to compute the fewest number of coins that you need to make up that amount. I\n",
    "<br>这道题一开始想复杂了， 用背包问题来解，但其实没必要，dp就能做出来了，和楼上那道题很像\n",
    "<br>类似于小青蛙跳到对岸的题\n",
    "<br> note how to initiate ret array at the beginning"
   ]
  },
  {
   "cell_type": "code",
   "execution_count": null,
   "metadata": {},
   "outputs": [],
   "source": [
    "class Solution(object):\n",
    "    def coinChange(self, coins, amount):\n",
    "        \"\"\"\n",
    "        :type coins: List[int]\n",
    "        :type amount: int\n",
    "        :rtype: int\n",
    "        \"\"\"\n",
    "        ret = [amount+1]*(amount+1)\n",
    "        ret[0] = 0\n",
    "        for i in range(1,len(ret)):\n",
    "            for j in range(len(coins)):\n",
    "                if i-coins[j]>=0:\n",
    "                    ret[i] = min(ret[i],1+ret[i-coins[j]])\n",
    "        #print(ret)\n",
    "        if ret[-1]>amount:\n",
    "            return -1\n",
    "        return ret[-1]"
   ]
  },
  {
   "cell_type": "markdown",
   "metadata": {},
   "source": [
    "## 55. Jump Game\n",
    "https://leetcode.com/problems/jump-game/\n",
    "<br>挺有意思一道题，考虑当前点是不是reachable， 思路通用"
   ]
  },
  {
   "cell_type": "code",
   "execution_count": null,
   "metadata": {},
   "outputs": [],
   "source": [
    "class Solution(object):\n",
    "    def canJump(self, nums):\n",
    "        \"\"\"\n",
    "        :type nums: List[int]\n",
    "        :rtype: bool\n",
    "        \"\"\"\n",
    "        reach = nums[0]\n",
    "        for i in range(1, len(nums)):\n",
    "            if i<=reach:\n",
    "                reach = max(i+nums[i],reach)\n",
    "            else:\n",
    "                return False\n",
    "            if reach>=len(nums)-1:\n",
    "                return True\n",
    "        return True"
   ]
  },
  {
   "cell_type": "markdown",
   "metadata": {},
   "source": [
    "## Word Break\n",
    "<br> Given a non-empty string s and a dictionary wordDict containing a list of non-empty words, determine if s can be segmented into a space-separated sequence of one or more dictionary words.\n",
    "1. 相当于每一步都用字典里面的单词去量，找出来所有reachable的position，看能否跳到对岸"
   ]
  },
  {
   "cell_type": "code",
   "execution_count": null,
   "metadata": {},
   "outputs": [],
   "source": [
    "class Solution(object):\n",
    "    def wordBreak(self, s, wordDict):\n",
    "        \"\"\"\n",
    "        :type s: str\n",
    "        :type wordDict: List[str]\n",
    "        :rtype: bool\n",
    "        \"\"\"\n",
    "        if len(wordDict) == 0:\n",
    "            return False\n",
    "        maxLen = max([len(x) for x in wordDict])\n",
    "        d = set(wordDict)\n",
    "        status = [False]*len(s)\n",
    "        start = -1\n",
    "        while start<len(status):\n",
    "            if start == -1 or status[start]:\n",
    "                end = start+1\n",
    "                while end<len(s) and end<=start+maxLen:\n",
    "                    temp = s[start+1:end+1]\n",
    "                    if temp in d:\n",
    "                        status[end] = True\n",
    "                    end+=1\n",
    "            start+=1\n",
    "        return status[-1]"
   ]
  }
 ],
 "metadata": {
  "kernelspec": {
   "display_name": "Python 3",
   "language": "python",
   "name": "python3"
  },
  "language_info": {
   "codemirror_mode": {
    "name": "ipython",
    "version": 3
   },
   "file_extension": ".py",
   "mimetype": "text/x-python",
   "name": "python",
   "nbconvert_exporter": "python",
   "pygments_lexer": "ipython3",
   "version": "3.6.5"
  }
 },
 "nbformat": 4,
 "nbformat_minor": 2
}

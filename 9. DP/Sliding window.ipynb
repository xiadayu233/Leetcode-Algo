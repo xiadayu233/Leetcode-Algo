{
 "cells": [
  {
   "cell_type": "markdown",
   "metadata": {},
   "source": [
    "## Sliding Window\n",
    "给一个全是正整数array 和k, 求其和严格小于k的subarray数目. 虽然知道要sliding-window, 但挣扎了半小时没能做出来. 最后在面试官提示下，连蒙带猜写了sliding window的移动方式，但没能写出代码."
   ]
  },
  {
   "cell_type": "code",
   "execution_count": 3,
   "metadata": {},
   "outputs": [],
   "source": [
    "def findSubarray(arr,k):\n",
    "    # arr = [2,3,4,5,6,4,3,1]\n",
    "    # k = 7\n",
    "    ret = 0\n",
    "    p1,p2 = 0,0\n",
    "    cur = 0 #cursum\n",
    "    while p2<len(arr):\n",
    "        while p2<len(arr) and cur+arr[p2]<k:\n",
    "            p2+=1\n",
    "        # p1 = 0, p2 = 2\n",
    "        # find the # of subarrays starting at p1, ending at most at p2\n",
    "        # count = p2 - p1\n",
    "        ret+=(p2-p1)\n",
    "        cur-=arr[p1]\n",
    "        p1+=1\n",
    "    ret+=(p2-p1)\n",
    "    return ret    "
   ]
  },
  {
   "cell_type": "code",
   "execution_count": 4,
   "metadata": {},
   "outputs": [
    {
     "data": {
      "text/plain": [
       "15"
      ]
     },
     "execution_count": 4,
     "metadata": {},
     "output_type": "execute_result"
    }
   ],
   "source": [
    "arr = [2,3,4,5,6,4,3,1]\n",
    "k = 7\n",
    "findSubarray(arr,k)"
   ]
  },
  {
   "cell_type": "code",
   "execution_count": null,
   "metadata": {},
   "outputs": [],
   "source": []
  }
 ],
 "metadata": {
  "kernelspec": {
   "display_name": "Python 3",
   "language": "python",
   "name": "python3"
  },
  "language_info": {
   "codemirror_mode": {
    "name": "ipython",
    "version": 3
   },
   "file_extension": ".py",
   "mimetype": "text/x-python",
   "name": "python",
   "nbconvert_exporter": "python",
   "pygments_lexer": "ipython3",
   "version": "3.6.5"
  }
 },
 "nbformat": 4,
 "nbformat_minor": 2
}

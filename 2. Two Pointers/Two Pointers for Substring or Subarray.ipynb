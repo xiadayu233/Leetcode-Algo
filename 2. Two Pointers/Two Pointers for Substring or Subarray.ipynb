{
 "cells": [
  {
   "cell_type": "markdown",
   "metadata": {},
   "source": [
    "## 3. Longest Substring Without Repeating Characters\n",
    "https://leetcode.com/problems/longest-substring-without-repeating-characters/\n",
    "1. dictionary\n",
    "2. 把O(N2)复杂度降成O(N)"
   ]
  },
  {
   "cell_type": "code",
   "execution_count": null,
   "metadata": {},
   "outputs": [],
   "source": [
    "class Solution(object):\n",
    "    def lengthOfLongestSubstring(self, s):\n",
    "        \"\"\"\n",
    "        :type s: str\n",
    "        :rtype: int\n",
    "        \"\"\"\n",
    "        d = {}\n",
    "        head, tail = 0, 0\n",
    "        ret = 0\n",
    "        while tail<len(s):\n",
    "            while tail<len(s) and (s[tail] not in d or d[s[tail]][-1]<head):\n",
    "                if s[tail] not in d:\n",
    "                    d[s[tail]] = [tail]\n",
    "                else:\n",
    "                    d[s[tail]].append(tail)\n",
    "                tail+=1\n",
    "            ret = max(ret,tail-head)\n",
    "            if tail < len(s):\n",
    "                head = d[s[tail]][-1]+1\n",
    "        return ret"
   ]
  },
  {
   "cell_type": "markdown",
   "metadata": {},
   "source": [
    "## 209.Minimum Size Subarray Sum\n",
    "https://leetcode.com/problems/minimum-size-subarray-sum/\n",
    "<br>Given an array of n positive integers and a positive integer s, find the minimal length of a contiguous subarray of which the sum ≥ s. If there isn't one, return 0 instead."
   ]
  },
  {
   "cell_type": "code",
   "execution_count": null,
   "metadata": {},
   "outputs": [],
   "source": [
    "class Solution(object):\n",
    "    def minSubArrayLen(self, s, nums):\n",
    "        \"\"\"\n",
    "        :type s: int\n",
    "        :type nums: List[int]\n",
    "        :rtype: int\n",
    "        \"\"\"\n",
    "        #brute force O(N2)\n",
    "        #O(nlogn)\n",
    "        #O(n)\n",
    "        head, tail = 0, 0\n",
    "        cur, ret = 0, len(nums)\n",
    "        while tail < len(nums):\n",
    "            cur+=nums[tail]\n",
    "            if cur>=s:\n",
    "                while cur-nums[head]>=s:\n",
    "                    cur-=nums[head]\n",
    "                    head+=1\n",
    "                ret = min(ret, tail+1-head)\n",
    "            tail+=1\n",
    "        if cur<s:\n",
    "            return 0\n",
    "        return ret"
   ]
  }
 ],
 "metadata": {
  "kernelspec": {
   "display_name": "Python 3",
   "language": "python",
   "name": "python3"
  },
  "language_info": {
   "codemirror_mode": {
    "name": "ipython",
    "version": 3
   },
   "file_extension": ".py",
   "mimetype": "text/x-python",
   "name": "python",
   "nbconvert_exporter": "python",
   "pygments_lexer": "ipython3",
   "version": "3.6.5"
  }
 },
 "nbformat": 4,
 "nbformat_minor": 2
}

{
 "cells": [
  {
   "cell_type": "markdown",
   "metadata": {},
   "source": [
    "## 5. Longest Palindromic Substring\n",
    "https://leetcode.com/problems/longest-palindromic-substring/\n",
    "<br>找中心位，不同中心位的substring是unique的"
   ]
  },
  {
   "cell_type": "code",
   "execution_count": null,
   "metadata": {},
   "outputs": [],
   "source": [
    "class Solution(object):\n",
    "    def longestPalindrome(self, s):\n",
    "        \"\"\"\n",
    "        :type s: str\n",
    "        :rtype: str\n",
    "        \"\"\"\n",
    "        # center is special\n",
    "        if len(s)<=1:\n",
    "            return s\n",
    "        ret = 1\n",
    "        head0, tail0 = -1,1\n",
    "        for i in range(1,len(s)-1):\n",
    "            head, tail = i-1, i+1\n",
    "            while head>=0 and tail<len(s) and s[head] == s[tail]:\n",
    "                head-=1\n",
    "                tail+=1\n",
    "            if tail-head-1>ret:\n",
    "                ret = tail-head-1\n",
    "                head0, tail0 = head, tail\n",
    "        for i in range(len(s)-1):\n",
    "            head, tail = i, i+1\n",
    "            while head>=0 and tail<len(s) and s[head] == s[tail]:\n",
    "                head-=1\n",
    "                tail+=1\n",
    "            if tail-head-1 > ret:\n",
    "                ret = tail-head-1\n",
    "                head0, tail0 = head, tail\n",
    "        return s[head0+1: tail0]"
   ]
  }
 ],
 "metadata": {
  "kernelspec": {
   "display_name": "Python 3",
   "language": "python",
   "name": "python3"
  },
  "language_info": {
   "codemirror_mode": {
    "name": "ipython",
    "version": 3
   },
   "file_extension": ".py",
   "mimetype": "text/x-python",
   "name": "python",
   "nbconvert_exporter": "python",
   "pygments_lexer": "ipython3",
   "version": "3.6.5"
  }
 },
 "nbformat": 4,
 "nbformat_minor": 2
}
